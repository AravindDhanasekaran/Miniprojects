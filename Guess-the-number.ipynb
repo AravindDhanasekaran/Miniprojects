{
 "cells": [
  {
   "cell_type": "markdown",
   "metadata": {},
   "source": [
    "#  Guess the number "
   ]
  },
  {
   "cell_type": "code",
   "execution_count": 1,
   "metadata": {},
   "outputs": [],
   "source": [
    "import numpy as np #importing this to genearte random number"
   ]
  },
  {
   "cell_type": "code",
   "execution_count": 2,
   "metadata": {},
   "outputs": [],
   "source": [
    "randomnumber=np.random.randint(1,50)\n",
    "#print(randomnumber) #to print the random number genrated by the computer #it can be commented"
   ]
  },
  {
   "cell_type": "code",
   "execution_count": 3,
   "metadata": {},
   "outputs": [
    {
     "name": "stdout",
     "output_type": "stream",
     "text": [
      "guess number between 1 to 50==>20\n",
      "guess lower number\n",
      "Ent input between 1 to 50 ==>10\n",
      "guess lower number\n",
      "Ent input between 1 to 50 ==>5\n",
      "guess lower number\n",
      "Ent input between 1 to 50 ==>3\n",
      "you got it \n"
     ]
    }
   ],
   "source": [
    "gnum=int(input(\"guess number between 1 to 50==>\"))#gnum is guess number which is given by the user\n",
    "c=0\n",
    "if(gnum<=50):#checks wether the given  input is greater  \n",
    "    while(c<=5):\n",
    "        if (gnum>randomnumber):\n",
    "            print(\"guess lower number\")\n",
    "            gnum=int(input(\"Ent input between 1 to 50 ==>\"))\n",
    "            c=c+1\n",
    "        elif (gnum==randomnumber):\n",
    "            print(\"you got it \")\n",
    "            break\n",
    "        else:\n",
    "            print(\"guess high number\")\n",
    "            gnum=int(input(\"Ent input between 1 to 50==>\"))\n",
    "            c=c+1\n",
    "    else:\n",
    "        print(\"your limit has been exceeded\")\n",
    "        print(\"the number is {}\",randomnumber)\n",
    "else:\n",
    "    print(\"enter the value between 1 t0 50\")\n",
    "    c=c+1\n",
    "    \n",
    "    \n",
    "\n",
    "    "
   ]
  },
  {
   "cell_type": "code",
   "execution_count": null,
   "metadata": {},
   "outputs": [],
   "source": []
  },
  {
   "cell_type": "code",
   "execution_count": null,
   "metadata": {},
   "outputs": [],
   "source": []
  },
  {
   "cell_type": "code",
   "execution_count": null,
   "metadata": {},
   "outputs": [],
   "source": []
  },
  {
   "cell_type": "code",
   "execution_count": null,
   "metadata": {},
   "outputs": [],
   "source": []
  },
  {
   "cell_type": "code",
   "execution_count": null,
   "metadata": {},
   "outputs": [],
   "source": []
  }
 ],
 "metadata": {
  "kernelspec": {
   "display_name": "Python 3",
   "language": "python",
   "name": "python3"
  },
  "language_info": {
   "codemirror_mode": {
    "name": "ipython",
    "version": 3
   },
   "file_extension": ".py",
   "mimetype": "text/x-python",
   "name": "python",
   "nbconvert_exporter": "python",
   "pygments_lexer": "ipython3",
   "version": "3.7.4"
  }
 },
 "nbformat": 4,
 "nbformat_minor": 2
}
