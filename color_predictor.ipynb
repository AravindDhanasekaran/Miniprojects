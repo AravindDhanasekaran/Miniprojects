{
 "cells": [
  {
   "cell_type": "code",
   "execution_count": 3,
   "metadata": {},
   "outputs": [],
   "source": [
    "#importing the neccesary libraries\n",
    "import cv2\n",
    "import pandas as pd\n"
   ]
  },
  {
   "cell_type": "code",
   "execution_count": 4,
   "metadata": {},
   "outputs": [],
   "source": [
    "#creating function to get the clicked position\n",
    "def draw_img(event,x,y,flags,param):\n",
    "    if event == cv2.EVENT_LBUTTONDBLCLK:\n",
    "        global b,g,r,x_position,y_position,click\n",
    "        click=True\n",
    "        x_position=x\n",
    "        y_position=y\n",
    "        b,g,r=image[y,x]\n",
    "        b=int(b)\n",
    "        g=int(g)\n",
    "        r=int(r)"
   ]
  },
  {
   "cell_type": "code",
   "execution_count": 5,
   "metadata": {},
   "outputs": [],
   "source": [
    "#creating function to get the color\n",
    "def color_name(R,G,B):\n",
    "    mini=10000\n",
    "    for i in range(len(data)):\n",
    "        difference=abs(R-int(data.loc[i,\"R\"]))+abs(G-int(data.loc[i,\"G\"]))+abs(B-int(data.loc[i,\"B\"]))\n",
    "        if difference <= mini:\n",
    "            mini=difference\n",
    "            color=data.loc[i,\"name\"]\n",
    "    return color"
   ]
  },
  {
   "cell_type": "code",
   "execution_count": 6,
   "metadata": {},
   "outputs": [],
   "source": [
    "#reading the image converting the image into matrix\n",
    "image=cv2.imread('colorsss.jpg')"
   ]
  },
  {
   "cell_type": "code",
   "execution_count": 7,
   "metadata": {},
   "outputs": [],
   "source": [
    "#intializing the value as zero for the variables\n",
    "click=False\n",
    "r=0\n",
    "g=0\n",
    "b=0\n",
    "x_position=0\n",
    "y_position=0"
   ]
  },
  {
   "cell_type": "code",
   "execution_count": 8,
   "metadata": {},
   "outputs": [],
   "source": [
    "#creating the index value for our csv color table and reading our csv file\n",
    "index=[\"color\",\"name\",\"hex\",\"R\",\"G\",\"B\"]\n",
    "data=pd.read_csv('colors.csv',names=index)"
   ]
  },
  {
   "cell_type": "code",
   "execution_count": 9,
   "metadata": {},
   "outputs": [],
   "source": [
    "#The fuction namedWindow just makes sure that if you wish to do something with that same window afterwards (eg move, resize, close that window), you can do it by referencing it with the same name.\n",
    "cv2.namedWindow('image')\n",
    "cv2.setMouseCallback('image',draw_img)"
   ]
  },
  {
   "cell_type": "code",
   "execution_count": 10,
   "metadata": {},
   "outputs": [],
   "source": [
    "while True:\n",
    "        cv2.imshow(\"image\",image)\n",
    "        #operation done when we click the mouse \n",
    "        if click:\n",
    "            #drawing rectangle in the image and filling it with the selected color\n",
    "            cv2.rectangle(image,(20,20),(750,60),(b,g,r),-1)\n",
    "            \n",
    "            #creating text string to display colors\n",
    "            text=color_name(r, g, b) + ' R=' + str(r) + ' G=' + str(g) + ' B=' + str(b)\n",
    "            \n",
    "\n",
    "            if r + g + b >= 600:\n",
    "                cv2.putText(img, text, (50, 50), 2, 0.8, (0, 0, 0), 2, cv2.LINE_AA)\n",
    "            else:\n",
    "                cv2.putText(image, text, (50, 50), 2, 0.8, (255, 255, 255), 2, cv2.LINE_AA)\n",
    "            clicked = False\n",
    "\n",
    "        if cv2.waitKey(20) & 0xFF == 27:\n",
    "            break\n",
    "\n",
    "\n",
    "cv2.destroyAllWindows()"
   ]
  }
 ],
 "metadata": {
  "kernelspec": {
   "display_name": "Python 3",
   "language": "python",
   "name": "python3"
  },
  "language_info": {
   "codemirror_mode": {
    "name": "ipython",
    "version": 3
   },
   "file_extension": ".py",
   "mimetype": "text/x-python",
   "name": "python",
   "nbconvert_exporter": "python",
   "pygments_lexer": "ipython3",
   "version": "3.7.4"
  }
 },
 "nbformat": 4,
 "nbformat_minor": 4
}
