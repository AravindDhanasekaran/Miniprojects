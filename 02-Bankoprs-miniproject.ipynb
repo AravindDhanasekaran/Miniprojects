{
 "cells": [
  {
   "cell_type": "markdown",
   "metadata": {},
   "source": [
    "# BANK OPERATIONS "
   ]
  },
  {
   "cell_type": "markdown",
   "metadata": {},
   "source": [
    "This code allows us to create a account and allow the user to choose their option either to deposit or withdrawl or to check the balance"
   ]
  },
  {
   "cell_type": "markdown",
   "metadata": {},
   "source": [
    "importing the library and creating class for the bank account"
   ]
  },
  {
   "cell_type": "code",
   "execution_count": 1,
   "metadata": {},
   "outputs": [],
   "source": [
    "import numpy as np\n",
    "class Account:\n",
    "    def __init__(self,accno,name,amount):\n",
    "        self.Accountnum=accno\n",
    "        self.Name=name\n",
    "        self.Amount=amount\n"
   ]
  },
  {
   "cell_type": "markdown",
   "metadata": {},
   "source": [
    "Function to create the user account"
   ]
  },
  {
   "cell_type": "code",
   "execution_count": 2,
   "metadata": {},
   "outputs": [
    {
     "name": "stdout",
     "output_type": "stream",
     "text": [
      "enter the account1001\n",
      "enter the namearavi\n",
      "enter the intial deposit amount1000\n"
     ]
    }
   ],
   "source": [
    "#def create_acc():\n",
    "acno=int(input(\"enter the account\"))\n",
    "name=input(\"enter the name\")\n",
    "amt=int(input(\"enter the intial deposit amount\"))\n",
    "acc1=Account(acno,name,amt)\n",
    "#def withdrawl():\n",
    "    "
   ]
  },
  {
   "cell_type": "markdown",
   "metadata": {},
   "source": [
    "Function to withdrawl cash from the account"
   ]
  },
  {
   "cell_type": "code",
   "execution_count": 3,
   "metadata": {},
   "outputs": [],
   "source": [
    "#withdrawl\n",
    "def withdrawl():\n",
    "    check_acc=int(input(\"enter the account number\"))\n",
    "    if(check_acc==acc1.Accountnum):\n",
    "        check_withamount=int(input(\"enter the withdrawl amount\"))\n",
    "        if(check_withamount<=acc1.Amount):\n",
    "            acc1.Amount=acc1.Amount-check_withamount\n",
    "            print(\"sucessfully done\")\n",
    "            print(\"the account bal{}\".format(acc1.Amount))\n",
    "        else:\n",
    "            print(\"insufficient funds\")\n",
    "    else:\n",
    "        print(\"enter the valid account number\")\n",
    "    "
   ]
  },
  {
   "cell_type": "markdown",
   "metadata": {},
   "source": [
    "function to check the account balance"
   ]
  },
  {
   "cell_type": "code",
   "execution_count": 4,
   "metadata": {},
   "outputs": [],
   "source": [
    "def checkbal():\n",
    "    check_acc=int(input(\"enter the account number\"))\n",
    "    if(check_acc==acc1.Accountnum):\n",
    "        print(\"account holder name:{}\".format(acc1.Name))\n",
    "        print(\"accountnumber:{}\".format(acc1.Accountnum))\n",
    "        print(\"total balance:{}\".format(acc1.Amount))\n",
    "    else:\n",
    "        print(\"enter the correct account number\")\n",
    "\n",
    "\n"
   ]
  },
  {
   "cell_type": "markdown",
   "metadata": {},
   "source": [
    "Function to deposit money in the bank account"
   ]
  },
  {
   "cell_type": "code",
   "execution_count": 5,
   "metadata": {},
   "outputs": [],
   "source": [
    "#deposit\n",
    "def deposit():\n",
    "    check_acc=int(input(\"enter the account number\"))\n",
    "    if(check_acc==acc1.Accountnum):\n",
    "        check_deposit=int(input(\"enter the deposit amount\"))\n",
    "        if(check_deposit>0):\n",
    "            acc1.Amount=acc1.Amount+check_deposit\n",
    "            print(\"successfully validated\")\n",
    "            print(\"total balance:{}\".format(acc1.Amount))\n",
    "        else:\n",
    "            print(\"enter the valid amount\")\n",
    "    else:\n",
    "        print(\"enter the correct account number\")\n",
    "\n",
    "    \n",
    "        \n",
    "    \n"
   ]
  },
  {
   "cell_type": "markdown",
   "metadata": {},
   "source": [
    "Calling the function according to their preference of the user"
   ]
  },
  {
   "cell_type": "code",
   "execution_count": 6,
   "metadata": {},
   "outputs": [
    {
     "name": "stdout",
     "output_type": "stream",
     "text": [
      "1.withdrawl\n",
      "2.check balaence\n",
      "3.Deposit\n",
      "Enter your choice1\n",
      "enter the account number100\n",
      "enter the valid account number\n",
      "enter 0 to exit1\n",
      "1.withdrawl\n",
      "2.check balaence\n",
      "3.Deposit\n",
      "Enter your choice1\n",
      "enter the account number1001\n",
      "enter the withdrawl amount100\n",
      "sucessfully done\n",
      "the account bal900\n",
      "enter 0 to exit1\n",
      "1.withdrawl\n",
      "2.check balaence\n",
      "3.Deposit\n",
      "Enter your choice1\n",
      "enter the account number1001\n",
      "enter the withdrawl amount100\n",
      "sucessfully done\n",
      "the account bal800\n",
      "enter 0 to exit1\n",
      "1.withdrawl\n",
      "2.check balaence\n",
      "3.Deposit\n",
      "Enter your choice2\n",
      "enter the account number1001\n",
      "account holder name:aravi\n",
      "accountnumber:1001\n",
      "total balance:800\n",
      "enter 0 to exit1\n",
      "1.withdrawl\n",
      "2.check balaence\n",
      "3.Deposit\n",
      "Enter your choice3\n",
      "enter the account number1001\n",
      "enter the deposit amount10000\n",
      "successfully validated\n",
      "total balance:10800\n",
      "enter 0 to exit0\n"
     ]
    }
   ],
   "source": [
    "i=1\n",
    "while(i!=0):\n",
    "    print(\"1.withdrawl\")\n",
    "    print(\"2.check balaence\")\n",
    "    print(\"3.Deposit\")\n",
    "    ch=int(input(\"Enter your choice\"))\n",
    "    if(ch==1):\n",
    "        withdrawl()\n",
    "    elif(ch==2):\n",
    "        checkbal()\n",
    "    else:\n",
    "        deposit()\n",
    "    i=int(input(\"enter 0 to exit\"))\n",
    "\n",
    "\n"
   ]
  },
  {
   "cell_type": "code",
   "execution_count": null,
   "metadata": {},
   "outputs": [],
   "source": []
  }
 ],
 "metadata": {
  "kernelspec": {
   "display_name": "Python 3",
   "language": "python",
   "name": "python3"
  },
  "language_info": {
   "codemirror_mode": {
    "name": "ipython",
    "version": 3
   },
   "file_extension": ".py",
   "mimetype": "text/x-python",
   "name": "python",
   "nbconvert_exporter": "python",
   "pygments_lexer": "ipython3",
   "version": "3.7.4"
  }
 },
 "nbformat": 4,
 "nbformat_minor": 2
}
